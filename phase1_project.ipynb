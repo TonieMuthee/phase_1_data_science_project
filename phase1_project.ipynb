{
 "cells": [
  {
   "cell_type": "code",
   "execution_count": 62,
   "id": "e7524d14",
   "metadata": {},
   "outputs": [],
   "source": [
    "# Importing libraries\n",
    "import pandas as pd\n",
    "import numpy as np\n",
    "import matplotlib.pyplot as plt\n",
    "import seaborn as sns"
   ]
  },
  {
   "cell_type": "code",
   "execution_count": 63,
   "id": "b67f6e27",
   "metadata": {},
   "outputs": [],
   "source": [
    "df = pd.read_csv(\"data/AviationData.csv\", encoding='latin1', low_memory=False)\n",
    "#encoding='latin1' to understand older special characters\n",
    "#low_memory=False load files slowly due to mixed data types"
   ]
  },
  {
   "cell_type": "code",
   "execution_count": 64,
   "id": "89c2d273",
   "metadata": {},
   "outputs": [
    {
     "data": {
      "text/html": [
       "<div>\n",
       "<style scoped>\n",
       "    .dataframe tbody tr th:only-of-type {\n",
       "        vertical-align: middle;\n",
       "    }\n",
       "\n",
       "    .dataframe tbody tr th {\n",
       "        vertical-align: top;\n",
       "    }\n",
       "\n",
       "    .dataframe thead th {\n",
       "        text-align: right;\n",
       "    }\n",
       "</style>\n",
       "<table border=\"1\" class=\"dataframe\">\n",
       "  <thead>\n",
       "    <tr style=\"text-align: right;\">\n",
       "      <th></th>\n",
       "      <th>Event.Id</th>\n",
       "      <th>Investigation.Type</th>\n",
       "      <th>Accident.Number</th>\n",
       "      <th>Event.Date</th>\n",
       "      <th>Location</th>\n",
       "      <th>Country</th>\n",
       "      <th>Latitude</th>\n",
       "      <th>Longitude</th>\n",
       "      <th>Airport.Code</th>\n",
       "      <th>Airport.Name</th>\n",
       "      <th>...</th>\n",
       "      <th>Purpose.of.flight</th>\n",
       "      <th>Air.carrier</th>\n",
       "      <th>Total.Fatal.Injuries</th>\n",
       "      <th>Total.Serious.Injuries</th>\n",
       "      <th>Total.Minor.Injuries</th>\n",
       "      <th>Total.Uninjured</th>\n",
       "      <th>Weather.Condition</th>\n",
       "      <th>Broad.phase.of.flight</th>\n",
       "      <th>Report.Status</th>\n",
       "      <th>Publication.Date</th>\n",
       "    </tr>\n",
       "  </thead>\n",
       "  <tbody>\n",
       "    <tr>\n",
       "      <th>0</th>\n",
       "      <td>20001218X45444</td>\n",
       "      <td>Accident</td>\n",
       "      <td>SEA87LA080</td>\n",
       "      <td>1948-10-24</td>\n",
       "      <td>MOOSE CREEK, ID</td>\n",
       "      <td>United States</td>\n",
       "      <td>NaN</td>\n",
       "      <td>NaN</td>\n",
       "      <td>NaN</td>\n",
       "      <td>NaN</td>\n",
       "      <td>...</td>\n",
       "      <td>Personal</td>\n",
       "      <td>NaN</td>\n",
       "      <td>2.0</td>\n",
       "      <td>0.0</td>\n",
       "      <td>0.0</td>\n",
       "      <td>0.0</td>\n",
       "      <td>UNK</td>\n",
       "      <td>Cruise</td>\n",
       "      <td>Probable Cause</td>\n",
       "      <td>NaN</td>\n",
       "    </tr>\n",
       "    <tr>\n",
       "      <th>1</th>\n",
       "      <td>20001218X45447</td>\n",
       "      <td>Accident</td>\n",
       "      <td>LAX94LA336</td>\n",
       "      <td>1962-07-19</td>\n",
       "      <td>BRIDGEPORT, CA</td>\n",
       "      <td>United States</td>\n",
       "      <td>NaN</td>\n",
       "      <td>NaN</td>\n",
       "      <td>NaN</td>\n",
       "      <td>NaN</td>\n",
       "      <td>...</td>\n",
       "      <td>Personal</td>\n",
       "      <td>NaN</td>\n",
       "      <td>4.0</td>\n",
       "      <td>0.0</td>\n",
       "      <td>0.0</td>\n",
       "      <td>0.0</td>\n",
       "      <td>UNK</td>\n",
       "      <td>Unknown</td>\n",
       "      <td>Probable Cause</td>\n",
       "      <td>19-09-1996</td>\n",
       "    </tr>\n",
       "    <tr>\n",
       "      <th>2</th>\n",
       "      <td>20061025X01555</td>\n",
       "      <td>Accident</td>\n",
       "      <td>NYC07LA005</td>\n",
       "      <td>1974-08-30</td>\n",
       "      <td>Saltville, VA</td>\n",
       "      <td>United States</td>\n",
       "      <td>36.922223</td>\n",
       "      <td>-81.878056</td>\n",
       "      <td>NaN</td>\n",
       "      <td>NaN</td>\n",
       "      <td>...</td>\n",
       "      <td>Personal</td>\n",
       "      <td>NaN</td>\n",
       "      <td>3.0</td>\n",
       "      <td>NaN</td>\n",
       "      <td>NaN</td>\n",
       "      <td>NaN</td>\n",
       "      <td>IMC</td>\n",
       "      <td>Cruise</td>\n",
       "      <td>Probable Cause</td>\n",
       "      <td>26-02-2007</td>\n",
       "    </tr>\n",
       "    <tr>\n",
       "      <th>3</th>\n",
       "      <td>20001218X45448</td>\n",
       "      <td>Accident</td>\n",
       "      <td>LAX96LA321</td>\n",
       "      <td>1977-06-19</td>\n",
       "      <td>EUREKA, CA</td>\n",
       "      <td>United States</td>\n",
       "      <td>NaN</td>\n",
       "      <td>NaN</td>\n",
       "      <td>NaN</td>\n",
       "      <td>NaN</td>\n",
       "      <td>...</td>\n",
       "      <td>Personal</td>\n",
       "      <td>NaN</td>\n",
       "      <td>2.0</td>\n",
       "      <td>0.0</td>\n",
       "      <td>0.0</td>\n",
       "      <td>0.0</td>\n",
       "      <td>IMC</td>\n",
       "      <td>Cruise</td>\n",
       "      <td>Probable Cause</td>\n",
       "      <td>12-09-2000</td>\n",
       "    </tr>\n",
       "    <tr>\n",
       "      <th>4</th>\n",
       "      <td>20041105X01764</td>\n",
       "      <td>Accident</td>\n",
       "      <td>CHI79FA064</td>\n",
       "      <td>1979-08-02</td>\n",
       "      <td>Canton, OH</td>\n",
       "      <td>United States</td>\n",
       "      <td>NaN</td>\n",
       "      <td>NaN</td>\n",
       "      <td>NaN</td>\n",
       "      <td>NaN</td>\n",
       "      <td>...</td>\n",
       "      <td>Personal</td>\n",
       "      <td>NaN</td>\n",
       "      <td>1.0</td>\n",
       "      <td>2.0</td>\n",
       "      <td>NaN</td>\n",
       "      <td>0.0</td>\n",
       "      <td>VMC</td>\n",
       "      <td>Approach</td>\n",
       "      <td>Probable Cause</td>\n",
       "      <td>16-04-1980</td>\n",
       "    </tr>\n",
       "  </tbody>\n",
       "</table>\n",
       "<p>5 rows × 31 columns</p>\n",
       "</div>"
      ],
      "text/plain": [
       "         Event.Id Investigation.Type Accident.Number  Event.Date  \\\n",
       "0  20001218X45444           Accident      SEA87LA080  1948-10-24   \n",
       "1  20001218X45447           Accident      LAX94LA336  1962-07-19   \n",
       "2  20061025X01555           Accident      NYC07LA005  1974-08-30   \n",
       "3  20001218X45448           Accident      LAX96LA321  1977-06-19   \n",
       "4  20041105X01764           Accident      CHI79FA064  1979-08-02   \n",
       "\n",
       "          Location        Country   Latitude   Longitude Airport.Code  \\\n",
       "0  MOOSE CREEK, ID  United States        NaN         NaN          NaN   \n",
       "1   BRIDGEPORT, CA  United States        NaN         NaN          NaN   \n",
       "2    Saltville, VA  United States  36.922223  -81.878056          NaN   \n",
       "3       EUREKA, CA  United States        NaN         NaN          NaN   \n",
       "4       Canton, OH  United States        NaN         NaN          NaN   \n",
       "\n",
       "  Airport.Name  ... Purpose.of.flight Air.carrier Total.Fatal.Injuries  \\\n",
       "0          NaN  ...          Personal         NaN                  2.0   \n",
       "1          NaN  ...          Personal         NaN                  4.0   \n",
       "2          NaN  ...          Personal         NaN                  3.0   \n",
       "3          NaN  ...          Personal         NaN                  2.0   \n",
       "4          NaN  ...          Personal         NaN                  1.0   \n",
       "\n",
       "  Total.Serious.Injuries Total.Minor.Injuries Total.Uninjured  \\\n",
       "0                    0.0                  0.0             0.0   \n",
       "1                    0.0                  0.0             0.0   \n",
       "2                    NaN                  NaN             NaN   \n",
       "3                    0.0                  0.0             0.0   \n",
       "4                    2.0                  NaN             0.0   \n",
       "\n",
       "  Weather.Condition  Broad.phase.of.flight   Report.Status Publication.Date  \n",
       "0               UNK                 Cruise  Probable Cause              NaN  \n",
       "1               UNK                Unknown  Probable Cause       19-09-1996  \n",
       "2               IMC                 Cruise  Probable Cause       26-02-2007  \n",
       "3               IMC                 Cruise  Probable Cause       12-09-2000  \n",
       "4               VMC               Approach  Probable Cause       16-04-1980  \n",
       "\n",
       "[5 rows x 31 columns]"
      ]
     },
     "execution_count": 64,
     "metadata": {},
     "output_type": "execute_result"
    }
   ],
   "source": [
    "df.head()"
   ]
  },
  {
   "cell_type": "code",
   "execution_count": 65,
   "id": "94eb1c7f",
   "metadata": {},
   "outputs": [
    {
     "name": "stdout",
     "output_type": "stream",
     "text": [
      "<class 'pandas.core.frame.DataFrame'>\n",
      "RangeIndex: 88889 entries, 0 to 88888\n",
      "Data columns (total 31 columns):\n",
      " #   Column                  Non-Null Count  Dtype  \n",
      "---  ------                  --------------  -----  \n",
      " 0   Event.Id                88889 non-null  object \n",
      " 1   Investigation.Type      88889 non-null  object \n",
      " 2   Accident.Number         88889 non-null  object \n",
      " 3   Event.Date              88889 non-null  object \n",
      " 4   Location                88837 non-null  object \n",
      " 5   Country                 88663 non-null  object \n",
      " 6   Latitude                34382 non-null  object \n",
      " 7   Longitude               34373 non-null  object \n",
      " 8   Airport.Code            50132 non-null  object \n",
      " 9   Airport.Name            52704 non-null  object \n",
      " 10  Injury.Severity         87889 non-null  object \n",
      " 11  Aircraft.damage         85695 non-null  object \n",
      " 12  Aircraft.Category       32287 non-null  object \n",
      " 13  Registration.Number     87507 non-null  object \n",
      " 14  Make                    88826 non-null  object \n",
      " 15  Model                   88797 non-null  object \n",
      " 16  Amateur.Built           88787 non-null  object \n",
      " 17  Number.of.Engines       82805 non-null  float64\n",
      " 18  Engine.Type             81793 non-null  object \n",
      " 19  FAR.Description         32023 non-null  object \n",
      " 20  Schedule                12582 non-null  object \n",
      " 21  Purpose.of.flight       82697 non-null  object \n",
      " 22  Air.carrier             16648 non-null  object \n",
      " 23  Total.Fatal.Injuries    77488 non-null  float64\n",
      " 24  Total.Serious.Injuries  76379 non-null  float64\n",
      " 25  Total.Minor.Injuries    76956 non-null  float64\n",
      " 26  Total.Uninjured         82977 non-null  float64\n",
      " 27  Weather.Condition       84397 non-null  object \n",
      " 28  Broad.phase.of.flight   61724 non-null  object \n",
      " 29  Report.Status           82505 non-null  object \n",
      " 30  Publication.Date        75118 non-null  object \n",
      "dtypes: float64(5), object(26)\n",
      "memory usage: 21.0+ MB\n"
     ]
    }
   ],
   "source": [
    "df.info()"
   ]
  },
  {
   "cell_type": "code",
   "execution_count": 66,
   "id": "97335261",
   "metadata": {},
   "outputs": [
    {
     "data": {
      "text/plain": [
       "Event.Id                      0\n",
       "Investigation.Type            0\n",
       "Accident.Number               0\n",
       "Event.Date                    0\n",
       "Location                     52\n",
       "Country                     226\n",
       "Latitude                  54507\n",
       "Longitude                 54516\n",
       "Airport.Code              38757\n",
       "Airport.Name              36185\n",
       "Injury.Severity            1000\n",
       "Aircraft.damage            3194\n",
       "Aircraft.Category         56602\n",
       "Registration.Number        1382\n",
       "Make                         63\n",
       "Model                        92\n",
       "Amateur.Built               102\n",
       "Number.of.Engines          6084\n",
       "Engine.Type                7096\n",
       "FAR.Description           56866\n",
       "Schedule                  76307\n",
       "Purpose.of.flight          6192\n",
       "Air.carrier               72241\n",
       "Total.Fatal.Injuries      11401\n",
       "Total.Serious.Injuries    12510\n",
       "Total.Minor.Injuries      11933\n",
       "Total.Uninjured            5912\n",
       "Weather.Condition          4492\n",
       "Broad.phase.of.flight     27165\n",
       "Report.Status              6384\n",
       "Publication.Date          13771\n",
       "dtype: int64"
      ]
     },
     "execution_count": 66,
     "metadata": {},
     "output_type": "execute_result"
    }
   ],
   "source": [
    "# Check missing values per column\n",
    "df.isnull().sum()"
   ]
  },
  {
   "cell_type": "code",
   "execution_count": 67,
   "id": "0b9ebe22",
   "metadata": {},
   "outputs": [
    {
     "data": {
      "text/plain": [
       "(88889, 23)"
      ]
     },
     "execution_count": 67,
     "metadata": {},
     "output_type": "execute_result"
    }
   ],
   "source": [
    "# List of columns to drop due to too much missing data\n",
    "columns_to_drop = ['Latitude', 'Longitude',\n",
    "    'Airport.Code', 'Airport.Name',\n",
    "    'Aircraft.Category', 'FAR.Description',\n",
    "    'Schedule', 'Air.carrier']\n",
    "\n",
    "# Drop the columns\n",
    "df = df.drop(columns=columns_to_drop)\n",
    "\n",
    "# Check the new shape\n",
    "df.shape"
   ]
  },
  {
   "cell_type": "code",
   "execution_count": 68,
   "id": "a1213e4c",
   "metadata": {},
   "outputs": [
    {
     "data": {
      "text/plain": [
       "Total.Fatal.Injuries      0\n",
       "Total.Serious.Injuries    0\n",
       "Total.Minor.Injuries      0\n",
       "Total.Uninjured           0\n",
       "dtype: int64"
      ]
     },
     "execution_count": 68,
     "metadata": {},
     "output_type": "execute_result"
    }
   ],
   "source": [
    "# Fill missing injury numbers with 0\n",
    "injury_columns = ['Total.Fatal.Injuries',\n",
    "    'Total.Serious.Injuries',\n",
    "    'Total.Minor.Injuries',\n",
    "    'Total.Uninjured']\n",
    "\n",
    "df[injury_columns] = df[injury_columns].fillna(0)\n",
    "\n",
    "# Double check if still any missing\n",
    "df[injury_columns].isnull().sum()"
   ]
  },
  {
   "cell_type": "code",
   "execution_count": 69,
   "id": "1413d3d7",
   "metadata": {},
   "outputs": [
    {
     "data": {
      "text/plain": [
       "Investigation.Type\n",
       "Accident    85015\n",
       "Incident     3874\n",
       "Name: count, dtype: int64"
      ]
     },
     "execution_count": 69,
     "metadata": {},
     "output_type": "execute_result"
    }
   ],
   "source": [
    "# Accident vs Incident breakdown\n",
    "df['Investigation.Type'].value_counts()"
   ]
  },
  {
   "cell_type": "markdown",
   "id": "101c1e37",
   "metadata": {},
   "source": [
    "Dataset mainly captures serious aviation events (accidents with injuries, damage, or fatalities).\n",
    "\n",
    "Incidents are relatively minor events (e.g., hard landings, runway veering without injuries).\n",
    "\n",
    "The dataset contains a total of 88,889 records, of which 85,015 (approximately 96%) are classified as Accidents, and 3,874 (approximately 4%) are classified as Incidents\n",
    "\n",
    "\n",
    "\n",
    "\n"
   ]
  },
  {
   "cell_type": "markdown",
   "id": "fc929f29",
   "metadata": {},
   "source": [
    "### What are the most dangerous phases of flight?\n",
    "This will show which parts of the flight (takeoff, landing, cruise, etc.) are most risky!"
   ]
  },
  {
   "cell_type": "code",
   "execution_count": 70,
   "id": "251c12b3",
   "metadata": {},
   "outputs": [
    {
     "data": {
      "text/plain": [
       "Broad.phase.of.flight\n",
       "Landing        15428\n",
       "Takeoff        12493\n",
       "Cruise         10269\n",
       "Maneuvering     8144\n",
       "Approach        6546\n",
       "Climb           2034\n",
       "Taxi            1958\n",
       "Descent         1887\n",
       "Go-around       1353\n",
       "Standing         945\n",
       "Unknown          548\n",
       "Other            119\n",
       "Name: count, dtype: int64"
      ]
     },
     "execution_count": 70,
     "metadata": {},
     "output_type": "execute_result"
    }
   ],
   "source": [
    "# Check during which phases of flight accidents/incidents happen most\n",
    "df['Broad.phase.of.flight'].value_counts()"
   ]
  },
  {
   "cell_type": "markdown",
   "id": "493d3a3c",
   "metadata": {},
   "source": [
    "#### Quick Insights:\n",
    "Landing is the most dangerous phase (highest number of accidents and incidents).\n",
    "\n",
    "Takeoff and Cruise are also very risky.\n",
    "\n",
    "Maneuvering (when pilots are manually controlling) also shows a significant number of events.\n",
    "\n",
    "Standing (aircraft on the ground but not moving) and Taxi have fewer but non-zero events.\n",
    "\n",
    "Go-around is a critical and dangerous phase too!"
   ]
  },
  {
   "cell_type": "code",
   "execution_count": 71,
   "id": "7eb922cd",
   "metadata": {},
   "outputs": [
    {
     "data": {
      "text/plain": [
       "Model\n",
       "152          2367\n",
       "172          1756\n",
       "172N         1164\n",
       "PA-28-140     932\n",
       "150           829\n",
       "172M          798\n",
       "172P          689\n",
       "182           659\n",
       "180           622\n",
       "150M          585\n",
       "Name: count, dtype: int64"
      ]
     },
     "execution_count": 71,
     "metadata": {},
     "output_type": "execute_result"
    }
   ],
   "source": [
    "# Find most common aircraft models\n",
    "df['Model'].value_counts().head(10)"
   ]
  },
  {
   "cell_type": "markdown",
   "id": "8342a962",
   "metadata": {},
   "source": [
    "### This tells us:\n",
    "\n",
    "Which models are most popular in accident data.\n",
    "\n",
    "Later: we can combine this with accident rates to find low-risk ones."
   ]
  },
  {
   "cell_type": "markdown",
   "id": "be633757",
   "metadata": {},
   "source": [
    "The most frequently involved aircraft models in aviation events were the Cessna 152 (2,367 occurrences), Cessna 172 series (various models), and the Piper PA-28-140. These aircraft are widely used for training and personal aviation, which likely explains their high occurrence rates\n",
    "High numbers for certain aircraft models likely reflect their popularity and high flight hours rather than poor safety performance"
   ]
  },
  {
   "cell_type": "markdown",
   "id": "7f3a42c0",
   "metadata": {},
   "source": [
    "### We want to find out:\n",
    "→ Which aircraft models have the highest vs lowest total fatalities?"
   ]
  },
  {
   "cell_type": "code",
   "execution_count": 72,
   "id": "70394cf8",
   "metadata": {},
   "outputs": [
    {
     "data": {
      "text/plain": [
       "Model\n",
       "737          1348.0\n",
       "737-200       906.0\n",
       "777 - 206     534.0\n",
       "A320          513.0\n",
       "MD-82         439.0\n",
       "172N          430.0\n",
       "172           400.0\n",
       "DC-9-32       396.0\n",
       "152           392.0\n",
       "A321          381.0\n",
       "Name: Total.Fatal.Injuries, dtype: float64"
      ]
     },
     "execution_count": 72,
     "metadata": {},
     "output_type": "execute_result"
    }
   ],
   "source": [
    "# Group by Model and sum total fatalities\n",
    "fatalities_by_model = df.groupby('Model')['Total.Fatal.Injuries'].sum()\n",
    "\n",
    "# Sort models by total fatalities in descending order\n",
    "fatalities_by_model = fatalities_by_model.sort_values(ascending=False)\n",
    "\n",
    "# Show top 10 models with highest fatalities\n",
    "fatalities_by_model.head(10)"
   ]
  },
  {
   "cell_type": "markdown",
   "id": "668e5a2b",
   "metadata": {},
   "source": [
    "High fatalities could mean many accidents or one very bad accident."
   ]
  },
  {
   "cell_type": "markdown",
   "id": "4051fa78",
   "metadata": {},
   "source": [
    "Let us find models that have:\n",
    "\n",
    "Many aircraft flying (popular but reliable),\n",
    "Low fatalities relative to their usage.\n",
    "\n",
    "To balance popularity vs safety, a good idea is to calculate:\n",
    "\n",
    "Fatality Rate = Total Fatalities / Total Accidents\n",
    "This will help us normalize the risk"
   ]
  },
  {
   "cell_type": "code",
   "execution_count": 73,
   "id": "404482ec",
   "metadata": {},
   "outputs": [
    {
     "data": {
      "text/html": [
       "<div>\n",
       "<style scoped>\n",
       "    .dataframe tbody tr th:only-of-type {\n",
       "        vertical-align: middle;\n",
       "    }\n",
       "\n",
       "    .dataframe tbody tr th {\n",
       "        vertical-align: top;\n",
       "    }\n",
       "\n",
       "    .dataframe thead th {\n",
       "        text-align: right;\n",
       "    }\n",
       "</style>\n",
       "<table border=\"1\" class=\"dataframe\">\n",
       "  <thead>\n",
       "    <tr style=\"text-align: right;\">\n",
       "      <th></th>\n",
       "      <th>Total_Accidents</th>\n",
       "      <th>Total_Fatalities</th>\n",
       "      <th>Fatality_Rate</th>\n",
       "    </tr>\n",
       "    <tr>\n",
       "      <th>Model</th>\n",
       "      <th></th>\n",
       "      <th></th>\n",
       "      <th></th>\n",
       "    </tr>\n",
       "  </thead>\n",
       "  <tbody>\n",
       "    <tr>\n",
       "      <th>747-168</th>\n",
       "      <td>1</td>\n",
       "      <td>349.0</td>\n",
       "      <td>349.0</td>\n",
       "    </tr>\n",
       "    <tr>\n",
       "      <th>TU-154</th>\n",
       "      <td>1</td>\n",
       "      <td>349.0</td>\n",
       "      <td>349.0</td>\n",
       "    </tr>\n",
       "    <tr>\n",
       "      <th>767-366-ER</th>\n",
       "      <td>1</td>\n",
       "      <td>217.0</td>\n",
       "      <td>217.0</td>\n",
       "    </tr>\n",
       "    <tr>\n",
       "      <th>777 - 206</th>\n",
       "      <td>3</td>\n",
       "      <td>534.0</td>\n",
       "      <td>178.0</td>\n",
       "    </tr>\n",
       "    <tr>\n",
       "      <th>A 310</th>\n",
       "      <td>1</td>\n",
       "      <td>169.0</td>\n",
       "      <td>169.0</td>\n",
       "    </tr>\n",
       "    <tr>\n",
       "      <th>A320 - 216</th>\n",
       "      <td>1</td>\n",
       "      <td>162.0</td>\n",
       "      <td>162.0</td>\n",
       "    </tr>\n",
       "    <tr>\n",
       "      <th>E135 Legacy</th>\n",
       "      <td>1</td>\n",
       "      <td>154.0</td>\n",
       "      <td>154.0</td>\n",
       "    </tr>\n",
       "    <tr>\n",
       "      <th>A310-300</th>\n",
       "      <td>1</td>\n",
       "      <td>124.0</td>\n",
       "      <td>124.0</td>\n",
       "    </tr>\n",
       "    <tr>\n",
       "      <th>-737-222</th>\n",
       "      <td>1</td>\n",
       "      <td>123.0</td>\n",
       "      <td>123.0</td>\n",
       "    </tr>\n",
       "    <tr>\n",
       "      <th>CitationJet 2</th>\n",
       "      <td>1</td>\n",
       "      <td>118.0</td>\n",
       "      <td>118.0</td>\n",
       "    </tr>\n",
       "  </tbody>\n",
       "</table>\n",
       "</div>"
      ],
      "text/plain": [
       "               Total_Accidents  Total_Fatalities  Fatality_Rate\n",
       "Model                                                          \n",
       "747-168                      1             349.0          349.0\n",
       "TU-154                       1             349.0          349.0\n",
       "767-366-ER                   1             217.0          217.0\n",
       "777 - 206                    3             534.0          178.0\n",
       "A 310                        1             169.0          169.0\n",
       "A320 - 216                   1             162.0          162.0\n",
       "E135 Legacy                  1             154.0          154.0\n",
       "A310-300                     1             124.0          124.0\n",
       "-737-222                     1             123.0          123.0\n",
       "CitationJet 2                1             118.0          118.0"
      ]
     },
     "execution_count": 73,
     "metadata": {},
     "output_type": "execute_result"
    }
   ],
   "source": [
    "# Total accidents per model\n",
    "accidents_by_model = df['Model'].value_counts()\n",
    "\n",
    "# Total fatalities per model\n",
    "fatalities_by_model = df.groupby('Model')['Total.Fatal.Injuries'].sum()\n",
    "\n",
    "# Create a DataFrame\n",
    "risk_df = pd.DataFrame({'Total_Accidents': accidents_by_model,\n",
    "    'Total_Fatalities': fatalities_by_model})\n",
    "\n",
    "# Calculate Fatality Rate\n",
    "risk_df['Fatality_Rate'] = risk_df['Total_Fatalities'] / risk_df['Total_Accidents']\n",
    "\n",
    "# Sort by Fatality Rate descending\n",
    "risk_df = risk_df.sort_values('Fatality_Rate', ascending=False)\n",
    "\n",
    "# Show the top 10 highest fatality rate models\n",
    "risk_df.head(10)"
   ]
  },
  {
   "cell_type": "markdown",
   "id": "d0445454",
   "metadata": {},
   "source": [
    "What This Tells Us:\n",
    "All these aircraft had only 1 or very few accidents, but when they crashed, many people died — very deadly per crash.\n",
    "\n",
    "Planes like 747-168 and TU-154 had huge fatality numbers (likely big commercial crashes).\n",
    "\n",
    "Even small jets like the CitationJet 2 had high fatalities for one crash.\n",
    "\n"
   ]
  },
  {
   "cell_type": "markdown",
   "id": "9fc8b64c",
   "metadata": {},
   "source": [
    "### Let’s plot a bar chart showing the Fatality Rate for the top 10 aircraft models"
   ]
  },
  {
   "cell_type": "code",
   "execution_count": 74,
   "id": "032d90e1",
   "metadata": {},
   "outputs": [
    {
     "data": {
      "image/png": "[encoded data removed]",
      "text/plain": [
       "<Figure size 1200x600 with 1 Axes>"
      ]
     },
     "metadata": {},
     "output_type": "display_data"
    }
   ],
   "source": [
    "import matplotlib.pyplot as plt\n",
    "\n",
    "# 1. Group the data by Model and calculate total accidents and fatalities\n",
    "model_summary = df.groupby('Model').agg(\n",
    "    Total_Accidents=('Model', 'count'),\n",
    "    Total_Fatalities=('Total.Fatal.Injuries', 'sum')\n",
    ").reset_index()\n",
    "\n",
    "# 2. Calculate fatality rate\n",
    "model_summary['Fatality_Rate'] = model_summary['Total_Fatalities'] / model_summary['Total_Accidents']\n",
    "\n",
    "# 3. Filter models with a reasonable number of accidents (e.g., more than 30 accidents)\n",
    "filtered_models = model_summary[model_summary['Total_Accidents'] > 30]\n",
    "\n",
    "# 4. Sort by Fatality Rate (descending to find the most fatal) and select top 10\n",
    "top_10_fatal = filtered_models.sort_values('Fatality_Rate', ascending=False).head(10)\n",
    "\n",
    "# 5. Plot\n",
    "plt.figure(figsize=(12, 6))\n",
    "plt.bar(top_10_fatal['Model'], top_10_fatal['Fatality_Rate'], color='crimson')\n",
    "plt.ylabel('Fatality Rate', fontsize=12)\n",
    "plt.xlabel('Aircraft Model', fontsize=12)\n",
    "plt.title('Top 10 Aircraft Models by Fatality Rate', fontsize=14, fontweight='bold')\n",
    "plt.xticks(rotation=45, ha='right')\n",
    "plt.grid(axis='y', linestyle='--', alpha=0.7)\n",
    "plt.tight_layout()\n",
    "plt.show()"
   ]
  },
  {
   "cell_type": "markdown",
   "id": "8adeb72a",
   "metadata": {},
   "source": [
    "### Let’s plot a bar chart showing the top 10 safest models (lowest fatality rate among popular aircraft)\n",
    "Since the goal of the project is to recommend safer aircraft for the company to invest in, low fatality rate models are even more important."
   ]
  },
  {
   "cell_type": "code",
   "execution_count": 75,
   "id": "b3f017e8",
   "metadata": {},
   "outputs": [
    {
     "data": {
      "image/png": "[encoded data removed]",
      "text/plain": [
       "<Figure size 1200x600 with 1 Axes>"
      ]
     },
     "metadata": {},
     "output_type": "display_data"
    }
   ],
   "source": [
    "import matplotlib.pyplot as plt\n",
    "\n",
    "# 1. Build a true summary by model:\n",
    "model_summary = df.groupby('Model').agg(Total_Accidents=('Event.Id', 'count'),\n",
    "    Total_Fatalities=('Total.Fatal.Injuries', 'sum'))\n",
    "\n",
    "# 2. Compute fatality rate\n",
    "model_summary['Fatality_Rate'] = (model_summary['Total_Fatalities'] / model_summary['Total_Accidents'])\n",
    "\n",
    "# 3. Filter to models with a robust sample size (e.g. > 30 accidents)\n",
    "robust = model_summary[model_summary['Total_Accidents'] > 30]\n",
    "\n",
    "# 4. Select the 10 models with the lowest fatality rate\n",
    "safe_models = robust.sort_values('Fatality_Rate', ascending=True).head(10)\n",
    "\n",
    "# 5. Plot vertical bars from safest to less safe\n",
    "plt.figure(figsize=(12, 6))\n",
    "plt.bar(safe_models.index, safe_models['Fatality_Rate'], color='seagreen')\n",
    "plt.xlabel('Aircraft Model', fontsize=12)\n",
    "plt.ylabel('Fatality Rate', fontsize=12)\n",
    "plt.title('Top 10 Safest Aircraft Models (Lowest Fatality Rate)', fontsize=14, fontweight='bold')\n",
    "plt.xticks(rotation=45, ha='right')\n",
    "plt.grid(axis='y', linestyle='--', alpha=0.7)\n",
    "plt.tight_layout()\n",
    "plt.show()"
   ]
  }
 ],
 "metadata": {
  "kernelspec": {
   "display_name": "myenv",
   "language": "python",
   "name": "python3"
  },
  "language_info": {
   "codemirror_mode": {
    "name": "ipython",
    "version": 3
   },
   "file_extension": ".py",
   "mimetype": "text/x-python",
   "name": "python",
   "nbconvert_exporter": "python",
   "pygments_lexer": "ipython3",
   "version": "3.10.16"
  }
 },
 "nbformat": 4,
 "nbformat_minor": 5
}
